{
 "cells": [
  {
   "cell_type": "markdown",
   "metadata": {
    "dc": {
     "key": "13f090f9f0"
    },
    "deletable": false,
    "editable": false,
    "run_control": {
     "frozen": true
    },
    "tags": [
     "context"
    ]
   },
   "source": [
    "## 1. Meet Dr. Ignaz Semmelweis\n",
    "<p><img style=\"float: left;margin:5px 20px 5px 1px\" src=\"https://github.com/Neviya/Dr.-Semmelweis-and-the-Discovery-of-Handwashing/blob/main/ignaz_semmelweis_1860.jpeg\"></p>\n",
    "<!--\n",
    "<img style=\"float: left;margin:5px 20px 5px 1px\" src="https://github.com/Neviya/Dr.-Semmelweis-and-the-Discovery-of-Handwashing/blob/main/ignaz_semmelweis_1860.jpeg">\n",
    "-->\n",
    "<p>This is Dr. Ignaz Semmelweis, a Hungarian physician born in 1818 and active at the Vienna General Hospital. If Dr. Semmelweis looks troubled it's probably because he's thinking about <em>childbed fever</em>: A deadly disease affecting women that just have given birth. He is thinking about it because in the early 1840s at the Vienna General Hospital as many as 10% of the women giving birth die from it. He is thinking about it because he knows the cause of childbed fever: It's the contaminated hands of the doctors delivering the babies. And they won't listen to him and <em>wash their hands</em>!</p>\n",
    "<p>In this notebook, we're going to reanalyze the data that made Semmelweis discover the importance of <em>handwashing</em>. Let's start by looking at the data that made Semmelweis realize that something was wrong with the procedures at Vienna General Hospital.</p>"
   ]
  },
  {
   "cell_type": "code",
   "execution_count": 30,
   "metadata": {
    "dc": {
     "key": "13f090f9f0"
    },
    "tags": [
     "sample_code"
    ]
   },
   "outputs": [
    {
     "name": "stdout",
     "output_type": "stream",
     "text": [
      "    year  births  deaths    clinic\n",
      "0   1841    3036     237  clinic 1\n",
      "1   1842    3287     518  clinic 1\n",
      "2   1843    3060     274  clinic 1\n",
      "3   1844    3157     260  clinic 1\n",
      "4   1845    3492     241  clinic 1\n",
      "5   1846    4010     459  clinic 1\n",
      "6   1841    2442      86  clinic 2\n",
      "7   1842    2659     202  clinic 2\n",
      "8   1843    2739     164  clinic 2\n",
      "9   1844    2956      68  clinic 2\n",
      "10  1845    3241      66  clinic 2\n",
      "11  1846    3754     105  clinic 2\n"
     ]
    }
   ],
   "source": [
    "# Importing modules\n",
    "import pandas as pd\n",
    "\n",
    "# Read datasets/yearly_deaths_by_clinic.csv into yearly\n",
    "yearly = pd.read_csv('datasets/yearly_deaths_by_clinic.csv')\n",
    "\n",
    "# Print out yearly\n",
    "print(yearly)"
   ]
  },
  {
   "cell_type": "markdown",
   "metadata": {
    "dc": {
     "key": "45ea098e15"
    },
    "deletable": false,
    "editable": false,
    "run_control": {
     "frozen": true
    },
    "tags": [
     "context"
    ]
   },
   "source": [
    "## 2. The alarming number of deaths\n",
    "<p>The table above shows the number of women giving birth at the two clinics at the Vienna General Hospital for the years 1841 to 1846. You'll notice that giving birth was very dangerous; an <em>alarming</em> number of women died as the result of childbirth, most of them from childbed fever.</p>\n",
    "<p>We see this more clearly if we look at the <em>proportion of deaths</em> out of the number of women giving birth. Let's zoom in on the proportion of deaths at Clinic 1.</p>"
   ]
  },
  {
   "cell_type": "code",
   "execution_count": 32,
   "metadata": {
    "dc": {
     "key": "45ea098e15"
    },
    "tags": [
     "sample_code"
    ]
   },
   "outputs": [
    {
     "name": "stdout",
     "output_type": "stream",
     "text": [
      "   year  births  deaths    clinic  proportion_deaths\n",
      "0  1841    3036     237  clinic 1           0.078063\n",
      "1  1842    3287     518  clinic 1           0.157591\n",
      "2  1843    3060     274  clinic 1           0.089542\n",
      "3  1844    3157     260  clinic 1           0.082357\n",
      "4  1845    3492     241  clinic 1           0.069015\n",
      "5  1846    4010     459  clinic 1           0.114464\n"
     ]
    }
   ],
   "source": [
    "# Calculate proportion of deaths per no. births\n",
    "proportion_deaths = yearly.deaths/yearly.births\n",
    "\n",
    "yearly['proportion_deaths']= proportion_deaths\n",
    "# Extract Clinic 1 data into clinic_1 and Clinic 2 data into clinic_2\n",
    "clinic_1 = yearly[yearly.clinic == 'clinic 1']\n",
    "clinic_2 = yearly[yearly.clinic == 'clinic 2']\n",
    "\n",
    "# Print out clinic_1\n",
    "print(clinic_1)"
   ]
  },
  {
   "cell_type": "markdown",
   "metadata": {
    "dc": {
     "key": "2bc9206960"
    },
    "deletable": false,
    "editable": false,
    "run_control": {
     "frozen": true
    },
    "tags": [
     "context"
    ]
   },
   "source": [
    "## 3. Death at the clinics\n",
    "<p>If we now plot the proportion of deaths at both Clinic 1 and Clinic 2  we'll see a curious pattern…</p>"
   ]
  },
  {
   "cell_type": "code",
   "execution_count": 34,
   "metadata": {
    "dc": {
     "key": "2bc9206960"
    },
    "tags": [
     "sample_code"
    ]
   },
   "outputs": [
    {
     "data": {
      "text/plain": [
       "<AxesSubplot:xlabel='year', ylabel='proportion_deaths'>"
      ]
     },
     "execution_count": 34,
     "metadata": {},
     "output_type": "execute_result"
    },
    {
     "data": {
      "image/png": "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\n",
      "text/plain": [
       "<Figure size 432x288 with 1 Axes>"
      ]
     },
     "metadata": {
      "needs_background": "light"
     },
     "output_type": "display_data"
    }
   ],
   "source": [
    "# This makes plots appear in the notebook\n",
    "%matplotlib inline\n",
    "\n",
    "# Plot yearly proportion of deaths at the two clinics\n",
    "ax = clinic_1.plot(x= 'year',y='proportion_deaths',label ='Clinic_1')\n",
    "clinic_2.plot(x= 'year',y='proportion_deaths', ax= ax,label ='Clinic_2', ylabel ='proportion_deaths')"
   ]
  },
  {
   "cell_type": "markdown",
   "metadata": {
    "dc": {
     "key": "0c9fdbf550"
    },
    "deletable": false,
    "editable": false,
    "run_control": {
     "frozen": true
    },
    "tags": [
     "context"
    ]
   },
   "source": [
    "## 4. The handwashing begins\n",
    "<p>Why is the proportion of deaths consistently so much higher in Clinic 1? Semmelweis saw the same pattern and was puzzled and distressed. The only difference between the clinics was that many medical students served at Clinic 1, while mostly midwife students served at Clinic 2. While the midwives only tended to the women giving birth, the medical students also spent time in the autopsy rooms examining corpses. </p>\n",
    "<p>Semmelweis started to suspect that something on the corpses spread from the hands of the medical students, caused childbed fever. So in a desperate attempt to stop the high mortality rates, he decreed: <em>Wash your hands!</em> This was an unorthodox and controversial request, nobody in Vienna knew about bacteria at this point in time. </p>\n",
    "<p>Let's load in monthly data from Clinic 1 to see if the handwashing had any effect.</p>"
   ]
  },
  {
   "cell_type": "code",
   "execution_count": 36,
   "metadata": {
    "dc": {
     "key": "0c9fdbf550"
    },
    "tags": [
     "sample_code"
    ]
   },
   "outputs": [
    {
     "data": {
      "text/html": [
       "<div>\n",
       "<style scoped>\n",
       "    .dataframe tbody tr th:only-of-type {\n",
       "        vertical-align: middle;\n",
       "    }\n",
       "\n",
       "    .dataframe tbody tr th {\n",
       "        vertical-align: top;\n",
       "    }\n",
       "\n",
       "    .dataframe thead th {\n",
       "        text-align: right;\n",
       "    }\n",
       "</style>\n",
       "<table border=\"1\" class=\"dataframe\">\n",
       "  <thead>\n",
       "    <tr style=\"text-align: right;\">\n",
       "      <th></th>\n",
       "      <th>date</th>\n",
       "      <th>births</th>\n",
       "      <th>deaths</th>\n",
       "      <th>proportion_deaths</th>\n",
       "    </tr>\n",
       "  </thead>\n",
       "  <tbody>\n",
       "    <tr>\n",
       "      <th>0</th>\n",
       "      <td>1841-01-01</td>\n",
       "      <td>254</td>\n",
       "      <td>37</td>\n",
       "      <td>0.145669</td>\n",
       "    </tr>\n",
       "    <tr>\n",
       "      <th>1</th>\n",
       "      <td>1841-02-01</td>\n",
       "      <td>239</td>\n",
       "      <td>18</td>\n",
       "      <td>0.075314</td>\n",
       "    </tr>\n",
       "    <tr>\n",
       "      <th>2</th>\n",
       "      <td>1841-03-01</td>\n",
       "      <td>277</td>\n",
       "      <td>12</td>\n",
       "      <td>0.043321</td>\n",
       "    </tr>\n",
       "    <tr>\n",
       "      <th>3</th>\n",
       "      <td>1841-04-01</td>\n",
       "      <td>255</td>\n",
       "      <td>4</td>\n",
       "      <td>0.015686</td>\n",
       "    </tr>\n",
       "    <tr>\n",
       "      <th>4</th>\n",
       "      <td>1841-05-01</td>\n",
       "      <td>255</td>\n",
       "      <td>2</td>\n",
       "      <td>0.007843</td>\n",
       "    </tr>\n",
       "  </tbody>\n",
       "</table>\n",
       "</div>"
      ],
      "text/plain": [
       "        date  births  deaths  proportion_deaths\n",
       "0 1841-01-01     254      37           0.145669\n",
       "1 1841-02-01     239      18           0.075314\n",
       "2 1841-03-01     277      12           0.043321\n",
       "3 1841-04-01     255       4           0.015686\n",
       "4 1841-05-01     255       2           0.007843"
      ]
     },
     "execution_count": 36,
     "metadata": {},
     "output_type": "execute_result"
    }
   ],
   "source": [
    "# Read datasets/monthly_deaths.csv into monthly\n",
    "monthly = pd.read_csv('datasets/monthly_deaths.csv', parse_dates=['date'])\n",
    "monthly \n",
    "# Calculate proportion of deaths per no. births\n",
    "monthly[\"proportion_deaths\"]= monthly.deaths/monthly.births\n",
    "monthly\n",
    "# Print out the first rows in monthly\n",
    "monthly.head()\n"
   ]
  },
  {
   "cell_type": "markdown",
   "metadata": {
    "dc": {
     "key": "2da2a84119"
    },
    "deletable": false,
    "editable": false,
    "run_control": {
     "frozen": true
    },
    "tags": [
     "context"
    ]
   },
   "source": [
    "## 5. The effect of handwashing\n",
    "<p>With the data loaded we can now look at the proportion of deaths over time. In the plot below we haven't marked where obligatory handwashing started, but it reduced the proportion of deaths to such a degree that you should be able to spot it!</p>"
   ]
  },
  {
   "cell_type": "code",
   "execution_count": 38,
   "metadata": {
    "dc": {
     "key": "2da2a84119"
    },
    "tags": [
     "sample_code"
    ]
   },
   "outputs": [
    {
     "data": {
      "image/png": "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\n",
      "text/plain": [
       "<Figure size 432x288 with 1 Axes>"
      ]
     },
     "metadata": {
      "needs_background": "light"
     },
     "output_type": "display_data"
    }
   ],
   "source": [
    "\n",
    "# Plot monthly proportion of deaths\n",
    "ax=monthly.plot(x= 'date', y='proportion_deaths', ylabel= 'Proportion deaths')"
   ]
  },
  {
   "cell_type": "markdown",
   "metadata": {
    "dc": {
     "key": "518e95acc5"
    },
    "deletable": false,
    "editable": false,
    "run_control": {
     "frozen": true
    },
    "tags": [
     "context"
    ]
   },
   "source": [
    "## 6. The effect of handwashing highlighted\n",
    "<p>Starting from the summer of 1847 the proportion of deaths is drastically reduced and, yes, this was when Semmelweis made handwashing obligatory. </p>\n",
    "<p>The effect of handwashing is made even more clear if we highlight this in the graph.</p>"
   ]
  },
  {
   "cell_type": "code",
   "execution_count": 40,
   "metadata": {
    "dc": {
     "key": "518e95acc5"
    },
    "tags": [
     "sample_code"
    ]
   },
   "outputs": [
    {
     "data": {
      "text/plain": [
       "<AxesSubplot:xlabel='date', ylabel='proportion_deaths'>"
      ]
     },
     "execution_count": 40,
     "metadata": {},
     "output_type": "execute_result"
    },
    {
     "data": {
      "image/png": "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\n",
      "text/plain": [
       "<Figure size 432x288 with 1 Axes>"
      ]
     },
     "metadata": {
      "needs_background": "light"
     },
     "output_type": "display_data"
    }
   ],
   "source": [
    "# Date when handwashing was made mandatory\n",
    "handwashing_start = pd.to_datetime('1847-06-01')\n",
    "\n",
    "# Split monthly into before and after handwashing_start\n",
    "before_washing = monthly[monthly['date']< handwashing_start]\n",
    "after_washing = monthly[monthly['date']>= handwashing_start]\n",
    "\n",
    "# Plot monthly proportion of deaths before and after handwashing\n",
    "ax= before_washing.plot(x= 'date',y='proportion_deaths',label='before_washing')\n",
    "after_washing.plot(x='date',y='proportion_deaths',ax=ax, label='after_washing',ylabel='proportion_deaths')\n"
   ]
  },
  {
   "cell_type": "markdown",
   "metadata": {
    "dc": {
     "key": "586a9f9803"
    },
    "deletable": false,
    "editable": false,
    "run_control": {
     "frozen": true
    },
    "tags": [
     "context"
    ]
   },
   "source": [
    "## 7. More handwashing, fewer deaths?\n",
    "<p>Again, the graph shows that handwashing had a huge effect. How much did it reduce the monthly proportion of deaths on average?</p>"
   ]
  },
  {
   "cell_type": "code",
   "execution_count": 42,
   "metadata": {
    "dc": {
     "key": "586a9f9803"
    },
    "tags": [
     "sample_code"
    ]
   },
   "outputs": [
    {
     "data": {
      "text/plain": [
       "-0.08395660751183336"
      ]
     },
     "execution_count": 42,
     "metadata": {},
     "output_type": "execute_result"
    }
   ],
   "source": [
    "# Difference in mean monthly proportion of deaths due to handwashing\n",
    "before_proportion = before_washing.proportion_deaths\n",
    "after_proportion = after_washing.proportion_deaths\n",
    "\n",
    "\n",
    "mean_diff = after_proportion.mean()- before_proportion.mean()\n",
    "mean_diff\n"
   ]
  },
  {
   "cell_type": "markdown",
   "metadata": {
    "dc": {
     "key": "d8ff65292a"
    },
    "deletable": false,
    "editable": false,
    "run_control": {
     "frozen": true
    },
    "tags": [
     "context"
    ]
   },
   "source": [
    "## 8. A Bootstrap analysis of Semmelweis handwashing data\n",
    "<p>It reduced the proportion of deaths by around 8 percentage points! From 10% on average to just 2% (which is still a high number by modern standards). </p>\n",
    "<p>To get a feeling for the uncertainty around how much handwashing reduces mortalities we could look at a confidence interval (here calculated using the bootstrap method).</p>"
   ]
  },
  {
   "cell_type": "code",
   "execution_count": 44,
   "metadata": {
    "dc": {
     "key": "d8ff65292a"
    },
    "tags": [
     "sample_code"
    ]
   },
   "outputs": [
    {
     "data": {
      "text/plain": [
       "0.025   -0.100169\n",
       "0.975   -0.067041\n",
       "dtype: float64"
      ]
     },
     "execution_count": 44,
     "metadata": {},
     "output_type": "execute_result"
    }
   ],
   "source": [
    "# A bootstrap analysis of the reduction of deaths due to handwashing\n",
    "boot_mean_diff = []\n",
    "for i in range(3000):\n",
    "    boot_before = before_proportion.sample(frac=1, replace= True) \n",
    "    boot_after = after_proportion.sample(frac=1, replace= True)\n",
    "    boot_mean_diff.append(boot_after.mean()- boot_before.mean())\n",
    "\n",
    "# Calculating a 95% confidence interval from boot_mean_diff \n",
    "confidence_interval = pd.Series(boot_mean_diff).quantile([0.025,0.975])\n",
    "confidence_interval"
   ]
  },
  {
   "cell_type": "markdown",
   "metadata": {
    "dc": {
     "key": "0645423069"
    },
    "deletable": false,
    "editable": false,
    "run_control": {
     "frozen": true
    },
    "tags": [
     "context"
    ]
   },
   "source": [
    "## 9. The fate of Dr. Semmelweis\n",
    "<p>So handwashing reduced the proportion of deaths by between 6.7 and 10 percentage points, according to a 95% confidence interval. All in all, it would seem that Semmelweis had solid evidence that handwashing was a simple but highly effective procedure that could save many lives.</p>\n",
    "<p>The tragedy is that, despite the evidence, Semmelweis' theory — that childbed fever was caused by some \"substance\" (what we today know as <em>bacteria</em>) from autopsy room corpses — was ridiculed by contemporary scientists. The medical community largely rejected his discovery and in 1849 he was forced to leave the Vienna General Hospital for good.</p>\n",
    "<p>One reason for this was that statistics and statistical arguments were uncommon in medical science in the 1800s. Semmelweis only published his data as long tables of raw data, but he didn't show any graphs nor confidence intervals. If he would have had access to the analysis we've just put together he might have been more successful in getting the Viennese doctors to wash their hands.</p>"
   ]
  },
  {
   "cell_type": "code",
   "execution_count": 46,
   "metadata": {
    "collapsed": true,
    "dc": {
     "key": "0645423069"
    },
    "jupyter": {
     "outputs_hidden": true
    },
    "tags": [
     "sample_code"
    ]
   },
   "outputs": [],
   "source": [
    "# The data Semmelweis collected points to that:\n",
    "doctors_should_wash_their_hands = True"
   ]
  }
 ],
 "metadata": {
  "kernelspec": {
   "display_name": "Python 3",
   "language": "python",
   "name": "python3"
  },
  "language_info": {
   "codemirror_mode": {
    "name": "ipython",
    "version": 3
   },
   "file_extension": ".py",
   "mimetype": "text/x-python",
   "name": "python",
   "nbconvert_exporter": "python",
   "pygments_lexer": "ipython3",
   "version": "3.8.5"
  }
 },
 "nbformat": 4,
 "nbformat_minor": 4
}
